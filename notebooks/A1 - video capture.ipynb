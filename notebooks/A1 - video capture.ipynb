{
 "cells": [
  {
   "cell_type": "code",
   "execution_count": 1,
   "metadata": {},
   "outputs": [],
   "source": [
    "import numpy as np\n",
    "import cv2"
   ]
  },
  {
   "cell_type": "code",
   "execution_count": 2,
   "metadata": {},
   "outputs": [],
   "source": [
    "vidcap = cv2.VideoCapture('../video/FLY00501.MP4')\n",
    "success,image = vidcap.read()\n"
   ]
  },
  {
   "cell_type": "code",
   "execution_count": 4,
   "metadata": {},
   "outputs": [
    {
     "name": "stdout",
     "output_type": "stream",
     "text": [
      "13  -  13000\n",
      "18  -  18000\n",
      "101  -  101000\n",
      "324  -  324000\n"
     ]
    }
   ],
   "source": [
    "vidcap = cv2.VideoCapture('../video/FLY70001.MP4')\n",
    "success,image = vidcap.read()\n",
    "\n",
    "frame_count = vidcap.get(cv2.CAP_PROP_FRAME_COUNT)\n",
    "fps=vidcap.get(cv2.CAP_PROP_FPS)\n",
    "duration = frame_count/fps\n",
    "\n",
    "\n",
    "timestamps = [13,18,60+39+2, 324]  #In seconds\n",
    "\n",
    "for timestamp in timestamps:\n",
    "    frame_no = timestamp*1000  #In Milli-seconds\n",
    "    print(timestamp, ' - ', frame_no)\n",
    "    vidcap.set(cv2.CAP_PROP_POS_MSEC,frame_no)\n",
    "    success, image = vidcap.read()\n",
    "    cv2.imwrite(\"../snapshots/frame-{}.jpg\".format(timestamp), image)"
   ]
  },
  {
   "cell_type": "code",
   "execution_count": 24,
   "metadata": {},
   "outputs": [
    {
     "data": {
      "text/plain": [
       "118.8103111111111"
      ]
     },
     "execution_count": 24,
     "metadata": {},
     "output_type": "execute_result"
    }
   ],
   "source": [
    "frame_count/fps\n"
   ]
  },
  {
   "cell_type": "code",
   "execution_count": 29,
   "metadata": {},
   "outputs": [
    {
     "data": {
      "text/plain": [
       "3548.0"
      ]
     },
     "execution_count": 29,
     "metadata": {},
     "output_type": "execute_result"
    }
   ],
   "source": [
    "vidcap = cv2.VideoCapture('FLY00501.MP4')\n",
    "vidcap.get(cv2.CAP_PROP_FRAME_COUNT)"
   ]
  },
  {
   "cell_type": "code",
   "execution_count": 30,
   "metadata": {},
   "outputs": [
    {
     "data": {
      "text/plain": [
       "118.8103111111111"
      ]
     },
     "execution_count": 30,
     "metadata": {},
     "output_type": "execute_result"
    }
   ],
   "source": [
    "duration"
   ]
  },
  {
   "cell_type": "code",
   "execution_count": null,
   "metadata": {},
   "outputs": [],
   "source": []
  }
 ],
 "metadata": {
  "kernelspec": {
   "display_name": "Python 3",
   "language": "python",
   "name": "python3"
  },
  "language_info": {
   "codemirror_mode": {
    "name": "ipython",
    "version": 3
   },
   "file_extension": ".py",
   "mimetype": "text/x-python",
   "name": "python",
   "nbconvert_exporter": "python",
   "pygments_lexer": "ipython3",
   "version": "3.5.6"
  }
 },
 "nbformat": 4,
 "nbformat_minor": 2
}
